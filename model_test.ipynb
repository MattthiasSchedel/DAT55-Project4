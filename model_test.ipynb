{
 "cells": [
  {
   "cell_type": "code",
   "execution_count": 1,
   "metadata": {},
   "outputs": [],
   "source": [
    "# load the pretrained model from model/model.safetensors\n",
    "# and use it to predict the output of the test data\n",
    "# load the model and tokenizer\n",
    "from transformers import RobertaForSequenceClassification, RobertaTokenizer\n",
    "\n",
    "model = RobertaForSequenceClassification.from_pretrained('models/RoBERTA-9ep/result/model')\n",
    "tokenizer = RobertaTokenizer.from_pretrained('models/RoBERTA-9ep/result/tokenizer')\n"
   ]
  },
  {
   "cell_type": "code",
   "execution_count": 2,
   "metadata": {},
   "outputs": [],
   "source": [
    "# load the test data\n",
    "import pandas as pd\n",
    "test_data = pd.read_csv('data/Testing_db.csv')"
   ]
  },
  {
   "cell_type": "code",
   "execution_count": 3,
   "metadata": {},
   "outputs": [],
   "source": [
    "# preprocess the test data\n",
    "X_test = test_data['Transcript']\n",
    "y_test = test_data['Category']"
   ]
  },
  {
   "cell_type": "code",
   "execution_count": 4,
   "metadata": {},
   "outputs": [],
   "source": [
    "test_encodings = tokenizer(X_test.tolist(), truncation=True, padding=True, max_length=512)\n"
   ]
  },
  {
   "cell_type": "code",
   "execution_count": 5,
   "metadata": {},
   "outputs": [],
   "source": [
    "import torch\n",
    "from torch.utils.data import TensorDataset, DataLoader\n",
    "from scipy.special import softmax\n",
    "\n",
    "# Convert the test encodings into PyTorch tensors\n",
    "input_ids = torch.tensor(test_encodings['input_ids'])\n",
    "attention_mask = torch.tensor(test_encodings['attention_mask'])\n",
    "\n",
    "# Create a DataLoader for the test data (for batching)\n",
    "test_dataset = TensorDataset(input_ids, attention_mask)\n",
    "test_loader = DataLoader(test_dataset, batch_size=8)\n",
    "\n",
    "# Move model to evaluation mode\n",
    "model.eval()\n",
    "\n",
    "# Initialize a list to store the predictions\n",
    "predictions = []\n",
    "\n",
    "# Disable gradient calculation for inference (saves memory and computations)\n",
    "with torch.no_grad():\n",
    "    for batch in test_loader:\n",
    "        input_ids, attention_mask = batch\n",
    "        # Predict the output logits\n",
    "        outputs = model(input_ids, attention_mask=attention_mask)\n",
    "        logits = outputs.logits\n",
    "        # Convert logits to probabilities\n",
    "        probs = softmax(logits.numpy(), axis=1)\n",
    "        # Determine the predicted category for each example in the batch\n",
    "        predicted_categories = probs.argmax(axis=1)\n",
    "        predictions.extend(predicted_categories)\n",
    "\n",
    "# At this point, `predictions` contains the predicted category index for each test example.\n",
    "# If you have a mapping of category indices to category names, you can convert these indices to actual names.\n"
   ]
  },
  {
   "cell_type": "code",
   "execution_count": 7,
   "metadata": {},
   "outputs": [],
   "source": [
    "from sklearn.metrics import confusion_matrix, ConfusionMatrixDisplay\n",
    "import numpy as np\n",
    "import matplotlib.pyplot as plt"
   ]
  },
  {
   "cell_type": "code",
   "execution_count": 8,
   "metadata": {},
   "outputs": [
    {
     "data": {
      "image/png": "[encoded data removed]",
      "text/plain": [
       "<Figure size 640x480 with 2 Axes>"
      ]
     },
     "metadata": {},
     "output_type": "display_data"
    }
   ],
   "source": [
    "# Get true labels from the test dataset\n",
    "\n",
    "# Compute the confusion matrix\n",
    "cm = confusion_matrix(y_test, predictions)\n",
    "\n",
    "# Display the confusion matrix\n",
    "disp = ConfusionMatrixDisplay(confusion_matrix=cm)\n",
    "disp.plot(cmap=plt.cm.Blues)\n",
    "plt.show()\n"
   ]
  },
  {
   "cell_type": "code",
   "execution_count": 9,
   "metadata": {},
   "outputs": [
    {
     "name": "stdout",
     "output_type": "stream",
     "text": [
      "Accuracy: 0.8750\n"
     ]
    }
   ],
   "source": [
    "# Calculate the accuracy\n",
    "accuracy = np.mean(y_test == predictions)\n",
    "print(f'Accuracy: {accuracy:.4f}')\n"
   ]
  }
 ],
 "metadata": {
  "kernelspec": {
   "display_name": "base",
   "language": "python",
   "name": "python3"
  },
  "language_info": {
   "codemirror_mode": {
    "name": "ipython",
    "version": 3
   },
   "file_extension": ".py",
   "mimetype": "text/x-python",
   "name": "python",
   "nbconvert_exporter": "python",
   "pygments_lexer": "ipython3",
   "version": "3.10.8"
  }
 },
 "nbformat": 4,
 "nbformat_minor": 2
}
